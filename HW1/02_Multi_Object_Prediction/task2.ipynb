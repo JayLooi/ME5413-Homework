{
 "cells": [
  {
   "cell_type": "markdown",
   "metadata": {},
   "source": [
    "LOAD DATA "
   ]
  },
  {
   "cell_type": "code",
   "execution_count": 1,
   "metadata": {},
   "outputs": [],
   "source": [
    "import numpy as np\n",
    "import os\n",
    "from tqdm import tqdm"
   ]
  },
  {
   "cell_type": "code",
   "execution_count": 2,
   "metadata": {},
   "outputs": [],
   "source": [
    "from utils import run, visualise, inspect_groundtruth_trajectory"
   ]
  },
  {
   "cell_type": "code",
   "execution_count": 3,
   "metadata": {},
   "outputs": [
    {
     "name": "stdout",
     "output_type": "stream",
     "text": [
      "The number of scenarios under task2_data is: 287\n"
     ]
    }
   ],
   "source": [
    "\n",
    "data_path = 'task2_data'\n",
    "file_list = os.listdir(data_path)\n",
    "file_count = len(file_list)\n",
    "\n",
    "print(f\"The number of scenarios under {data_path} is: {file_count}\")\n",
    "\n",
    "dt = 0.1\n",
    "current_timestep = 10\n",
    "future_seconds = (3, 5, 8)\n",
    "\n",
    "scenario_indices = [5, 30, 45, 67, 90, 121, 136, 189, 201, 250]\n",
    "time_indices = [0, 1, 2, 0, 1, 2, 0, 1, 2, 2]\n",
    "\n",
    "# Random scenarios and prediction horizon for visualisation (uncomment to use randomly selected scenarios and prediction horizon for visualisation)\n",
    "# scenario_indices = np.random.choice(file_count, 10)\n",
    "# time_indices = np.random.choice(3, 10)\n"
   ]
  },
  {
   "cell_type": "markdown",
   "metadata": {},
   "source": [
    "Q1. Use a constant velocity model to predict the future trajectories of the target agents at 3s, 5s, and 8s. Then, calculate the Average Displacement Error (ADE) and Final Displacement Error (FDE). The results should be averaged across all target agents and scenarios."
   ]
  },
  {
   "cell_type": "markdown",
   "metadata": {},
   "source": [
    "ADE| ADE(3s) | ADE(5s) | ADE(8s) |\n",
    "FDE| FDE(3s) | FDE(5s) | FDE(8s) |"
   ]
  },
  {
   "cell_type": "code",
   "execution_count": 4,
   "metadata": {},
   "outputs": [
    {
     "name": "stderr",
     "output_type": "stream",
     "text": [
      "100%|██████████| 287/287 [00:01<00:00, 236.37it/s]"
     ]
    },
    {
     "name": "stdout",
     "output_type": "stream",
     "text": [
      "Future 3s, Average ADE=1.7747710662439704, Average FDE=4.815347607147807\n",
      "Future 5s, Average ADE=4.467095053374373, Average FDE=12.333537324231145\n",
      "Future 8s, Average ADE=9.400351142728635, Average FDE=25.75123572386691\n"
     ]
    },
    {
     "name": "stderr",
     "output_type": "stream",
     "text": [
      "\n"
     ]
    }
   ],
   "source": [
    "all_ade = [[] for _ in range(len(future_seconds))]\n",
    "all_fde = [[] for _ in range(len(future_seconds))]\n",
    "all_pred = []\n",
    "all_gt = []\n",
    "for scenario in tqdm(file_list):\n",
    "    path = os.path.join(data_path, scenario)\n",
    "    data = np.load(path, allow_pickle=True)\n",
    "    pred = []\n",
    "    gt = []\n",
    "    for i, seconds in enumerate(future_seconds):\n",
    "        ade, fde, valid_pred, valid_gt = run('cv', data, current_timestep, dt, seconds)\n",
    "        all_ade[i].extend(ade)\n",
    "        all_fde[i].extend(fde)\n",
    "        pred.append(valid_pred)\n",
    "        gt.append(valid_gt)\n",
    "\n",
    "    all_pred.append(pred)\n",
    "    all_gt.append(gt)\n",
    "\n",
    "for seconds, ade, fde in zip(future_seconds, all_ade, all_fde):\n",
    "    average_ade = sum(ade) / len(ade)\n",
    "    average_fde = sum(fde) / len(fde)\n",
    "    print(f'Future {seconds}s, Average ADE={average_ade}, Average FDE={average_fde}')\n"
   ]
  },
  {
   "cell_type": "code",
   "execution_count": null,
   "metadata": {},
   "outputs": [],
   "source": [
    "# Randomly visualise 10 scenarios\n",
    "for scenario_index, time_index in zip(scenario_indices, time_indices):\n",
    "    pred = all_pred[scenario_index][time_index]\n",
    "    gt = all_gt[scenario_index][time_index]\n",
    "    path = os.path.join(data_path, file_list[scenario_index])\n",
    "    data = np.load(path, allow_pickle=True)\n",
    "    scenario_id = data['scenario_id']\n",
    "    print(f'Prediction of future {future_seconds[time_index]}s for scenario={scenario_id}')\n",
    "    visualise(data, current_timestep, pred, gt, save=True, file_prefix='cv')\n"
   ]
  },
  {
   "cell_type": "markdown",
   "metadata": {},
   "source": [
    "Q2. Use a constant acceleration model to predict the future trajectories of the target agents at 3s, 5s, and 8s. Then, calculate the Average Displacement Error (ADE) and Final Displacement Error (FDE). The results should be averaged across all target agents and scenarios."
   ]
  },
  {
   "cell_type": "markdown",
   "metadata": {},
   "source": [
    "ADE| ADE(3s) | ADE(5s) | ADE(8s) |\n",
    "FDE| FDE(3s) | FDE(5s) | FDE(8s) |"
   ]
  },
  {
   "cell_type": "code",
   "execution_count": 6,
   "metadata": {},
   "outputs": [
    {
     "name": "stderr",
     "output_type": "stream",
     "text": [
      "100%|██████████| 287/287 [00:01<00:00, 166.13it/s]"
     ]
    },
    {
     "name": "stdout",
     "output_type": "stream",
     "text": [
      "Future 3s, Average ADE=5.260263627310501, Average FDE=14.838099952935822\n",
      "Future 5s, Average ADE=14.1976890556386, Average FDE=41.37652619868657\n",
      "Future 8s, Average ADE=32.24363362580444, Average FDE=95.4862515617611\n"
     ]
    },
    {
     "name": "stderr",
     "output_type": "stream",
     "text": [
      "\n"
     ]
    }
   ],
   "source": [
    "all_ade = [[] for _ in range(len(future_seconds))]\n",
    "all_fde = [[] for _ in range(len(future_seconds))]\n",
    "all_pred = []\n",
    "all_gt = []\n",
    "for scenario in tqdm(file_list):\n",
    "    path = os.path.join(data_path, scenario)\n",
    "    data = np.load(path, allow_pickle=True)\n",
    "    pred = []\n",
    "    gt = []\n",
    "    for i, seconds in enumerate(future_seconds):\n",
    "        ade, fde, valid_pred, valid_gt = run('ca', data, current_timestep, dt, seconds)\n",
    "        all_ade[i].extend(ade)\n",
    "        all_fde[i].extend(fde)\n",
    "        pred.append(valid_pred)\n",
    "        gt.append(valid_gt)\n",
    "\n",
    "    all_pred.append(pred)\n",
    "    all_gt.append(gt)\n",
    "\n",
    "for seconds, ade, fde in zip(future_seconds, all_ade, all_fde):\n",
    "    average_ade = sum(ade) / len(ade)\n",
    "    average_fde = sum(fde) / len(fde)\n",
    "    print(f'Future {seconds}s, Average ADE={average_ade}, Average FDE={average_fde}')"
   ]
  },
  {
   "cell_type": "code",
   "execution_count": null,
   "metadata": {},
   "outputs": [],
   "source": [
    "# Randomly visualise 10 scenarios\n",
    "for scenario_index, time_index in zip(scenario_indices, time_indices):\n",
    "    pred = all_pred[scenario_index][time_index]\n",
    "    gt = all_gt[scenario_index][time_index]\n",
    "    path = os.path.join(data_path, file_list[scenario_index])\n",
    "    data = np.load(path, allow_pickle=True)\n",
    "    scenario_id = data['scenario_id']\n",
    "    print(f'Prediction of future {future_seconds[time_index]}s for scenario={scenario_id}')\n",
    "    visualise(data, current_timestep, pred, gt, save=True, file_prefix='ca')"
   ]
  },
  {
   "cell_type": "markdown",
   "metadata": {},
   "source": [
    "Briefly discuss the observations from your results. "
   ]
  },
  {
   "cell_type": "code",
   "execution_count": null,
   "metadata": {},
   "outputs": [],
   "source": [
    "scenario_index = 169 #30\n",
    "\n",
    "path = os.path.join(data_path, file_list[scenario_index])\n",
    "data = np.load(path, allow_pickle=True)\n",
    "tracks = data['predict_list']\n",
    "agents_of_interest = data['all_agent'][tracks]\n",
    "\n",
    "print(f\"Inspecting velocity curve of agent {tracks[0]} in {data['scenario_id']}\")\n",
    "\n",
    "inspect_groundtruth_trajectory(agents_of_interest[0], dt)\n"
   ]
  }
 ],
 "metadata": {
  "kernelspec": {
   "display_name": "virtualenv",
   "language": "python",
   "name": "python3"
  },
  "language_info": {
   "codemirror_mode": {
    "name": "ipython",
    "version": 3
   },
   "file_extension": ".py",
   "mimetype": "text/x-python",
   "name": "python",
   "nbconvert_exporter": "python",
   "pygments_lexer": "ipython3",
   "version": "3.8.10"
  }
 },
 "nbformat": 4,
 "nbformat_minor": 2
}
